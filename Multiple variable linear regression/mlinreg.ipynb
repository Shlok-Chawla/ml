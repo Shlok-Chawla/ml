{
 "cells": [
  {
   "cell_type": "code",
   "execution_count": 41,
   "metadata": {},
   "outputs": [],
   "source": [
    "import pandas as pd\n",
    "import copy, math\n",
    "import numpy as np\n",
    "import matplotlib.pyplot as plt\n",
    "import random as rd"
   ]
  },
  {
   "cell_type": "code",
   "execution_count": 42,
   "metadata": {},
   "outputs": [
    {
     "name": "stdout",
     "output_type": "stream",
     "text": [
      "     X1   X2   X3     Y\n",
      "0   2.5  7.8  3.2  15.3\n",
      "1   3.0  6.5  3.9  17.2\n",
      "2   2.8  5.8  2.8  14.3\n",
      "3   3.5  6.2  3.5  16.5\n",
      "4   3.2  7.1  3.1  16.4\n",
      "..  ...  ...  ...   ...\n",
      "59  3.1  6.5  3.1  16.7\n",
      "60  3.7  7.0  3.7  17.8\n",
      "61  3.3  6.8  3.3  17.1\n",
      "62  2.6  7.2  2.6  15.6\n",
      "63  3.4  6.6  3.4  17.0\n",
      "\n",
      "[64 rows x 4 columns]\n"
     ]
    }
   ],
   "source": [
    "data = pd.read_csv(\"data.csv\")\n",
    "print(data)"
   ]
  },
  {
   "cell_type": "code",
   "execution_count": 43,
   "metadata": {},
   "outputs": [],
   "source": [
    "x = pd.DataFrame(data.iloc[:,:-1])\n",
    "x_train = []\n",
    "for i in range(len(x)):\n",
    "    x_train.append(x.loc[i])\n",
    "x_train = np.array(x_train)\n",
    "y_train = np.array(data[\"Y\"])"
   ]
  },
  {
   "cell_type": "code",
   "execution_count": 44,
   "metadata": {},
   "outputs": [],
   "source": [
    "w_init = []\n",
    "for i in range(x_train.shape[1]):\n",
    "    w_init.append(rd.random())\n",
    "\n",
    "w_init = np.array(w_init)\n",
    "b_init = rd.random()"
   ]
  },
  {
   "cell_type": "code",
   "execution_count": 45,
   "metadata": {},
   "outputs": [],
   "source": [
    "def compute_cost(x,y,w,b):\n",
    "    m = x.shape[0]\n",
    "    cost = 0.0\n",
    "    for i in range(m):                                \n",
    "        f_wb_i = np.dot(x[i], w) + b\n",
    "        cost = cost + (f_wb_i - y[i])**2       \n",
    "    cost = cost / (2 * m)                         \n",
    "    return cost"
   ]
  },
  {
   "cell_type": "code",
   "execution_count": 46,
   "metadata": {},
   "outputs": [
    {
     "name": "stdout",
     "output_type": "stream",
     "text": [
      "Cost at optimal w : 68.36682009165044\n"
     ]
    }
   ],
   "source": [
    "cost = compute_cost(x_train, y_train, w_init, b_init)\n",
    "print(f'Cost at optimal w : {cost}')"
   ]
  },
  {
   "cell_type": "code",
   "execution_count": 47,
   "metadata": {},
   "outputs": [
    {
     "data": {
      "text/plain": [
       "array([0., 0., 0.])"
      ]
     },
     "execution_count": 47,
     "metadata": {},
     "output_type": "execute_result"
    }
   ],
   "source": [
    "np.zeros((3,))"
   ]
  },
  {
   "cell_type": "code",
   "execution_count": 48,
   "metadata": {},
   "outputs": [
    {
     "data": {
      "text/plain": [
       "6.5"
      ]
     },
     "execution_count": 48,
     "metadata": {},
     "output_type": "execute_result"
    }
   ],
   "source": [
    "x_train[1,1]"
   ]
  },
  {
   "cell_type": "code",
   "execution_count": 49,
   "metadata": {},
   "outputs": [],
   "source": [
    "\n",
    "def compute_gradient(X, y, w, b): \n",
    "    \"\"\"\n",
    "    Computes the gradient for linear regression \n",
    "    Args:\n",
    "      X (ndarray (m,n)): Data, m examples with n features\n",
    "      y (ndarray (m,)) : target values\n",
    "      w (ndarray (n,)) : model parameters  \n",
    "      b (scalar)       : model parameter\n",
    "      \n",
    "    Returns:\n",
    "      dj_dw (ndarray (n,)): The gradient of the cost w.r.t. the parameters w. \n",
    "      dj_db (scalar):       The gradient of the cost w.r.t. the parameter b. \n",
    "    \"\"\"\n",
    "               #(number of examples, number of features)\n",
    "    m,n = X.shape\n",
    "    dj_dw = np.zeros((n,))\n",
    "    dj_db = 0.\n",
    "\n",
    "    for i in range(m):                             \n",
    "        err = (np.dot(X[i], w) + b) - y[i]   \n",
    "        for j in range(n):                         \n",
    "            dj_dw[j] = dj_dw[j] + err * X[i,j]    \n",
    "        dj_db = dj_db + err                        \n",
    "    dj_dw = dj_dw / m                                \n",
    "    dj_db = dj_db / m  \n",
    "    return dj_db, dj_dw                              \n",
    "        "
   ]
  },
  {
   "cell_type": "code",
   "execution_count": 50,
   "metadata": {},
   "outputs": [
    {
     "data": {
      "text/plain": [
       "6.5"
      ]
     },
     "execution_count": 50,
     "metadata": {},
     "output_type": "execute_result"
    }
   ],
   "source": [
    "x_train[1,1]"
   ]
  },
  {
   "cell_type": "code",
   "execution_count": 51,
   "metadata": {},
   "outputs": [
    {
     "name": "stdout",
     "output_type": "stream",
     "text": [
      "dj_db at initial w,b: -11.67944057976988\n",
      "dj_dw at initial w,b: \n",
      " [-37.36450925 -81.09135284 -37.78688667]\n"
     ]
    }
   ],
   "source": [
    "tmp_dj_db, tmp_dj_dw = compute_gradient(x_train, y_train, w_init, b_init)\n",
    "print(f'dj_db at initial w,b: {tmp_dj_db}')\n",
    "print(f'dj_dw at initial w,b: \\n {tmp_dj_dw}')"
   ]
  },
  {
   "cell_type": "code",
   "execution_count": 52,
   "metadata": {},
   "outputs": [],
   "source": [
    "def gradient_descent(X, y, w_in, b_in, cost_function, gradient_function, alpha, num_iters): \n",
    "    \"\"\"\n",
    "    Performs batch gradient descent to learn theta. Updates theta by taking \n",
    "    num_iters gradient steps with learning rate alpha\n",
    "    \n",
    "    Args:\n",
    "      X (ndarray (m,n))   : Data, m examples with n features\n",
    "      y (ndarray (m,))    : target values\n",
    "      w_in (ndarray (n,)) : initial model parameters  \n",
    "      b_in (scalar)       : initial model parameter\n",
    "      cost_function       : function to compute cost\n",
    "      gradient_function   : function to compute the gradient\n",
    "      alpha (float)       : Learning rate\n",
    "      num_iters (int)     : number of iterations to run gradient descent\n",
    "      \n",
    "    Returns:\n",
    "      w (ndarray (n,)) : Updated values of parameters \n",
    "      b (scalar)       : Updated value of parameter \n",
    "      \"\"\"\n",
    "    \n",
    "    # An array to store cost J and w's at each iteration primarily for graphing later\n",
    "    J_history = []\n",
    "    w = copy.deepcopy(w_in)  #avoid modifying global w within function\n",
    "    b = b_in\n",
    "    \n",
    "    for i in range(num_iters):\n",
    "\n",
    "        # Calculate the gradient and update the parameters\n",
    "        dj_db,dj_dw = gradient_function(X, y, w, b)   ##None\n",
    "\n",
    "        # Update Parameters using w, b, alpha and gradient\n",
    "        w = w - alpha * dj_dw               ##None\n",
    "        b = b - alpha * dj_db               ##None\n",
    "      \n",
    "        # Save cost J at each iteration\n",
    "        if i<100000:      # prevent resource exhaustion \n",
    "            J_history.append( cost_function(X, y, w, b))\n",
    "\n",
    "        # Print cost every at intervals 10 times or as many iterations if < 10\n",
    "        if i% math.ceil(num_iters / 10) == 0:\n",
    "            print(f\"Iteration {i:4d}: Cost {J_history[-1]:8.2f}   \")\n",
    "        \n",
    "    return w, b, J_history #return final w,b and J history for graphing"
   ]
  },
  {
   "cell_type": "code",
   "execution_count": 58,
   "metadata": {},
   "outputs": [
    {
     "name": "stdout",
     "output_type": "stream",
     "text": [
      "Iteration    0: Cost   122.64   \n",
      "Iteration 1000: Cost     0.14   \n",
      "Iteration 2000: Cost     0.12   \n",
      "Iteration 3000: Cost     0.10   \n",
      "Iteration 4000: Cost     0.09   \n",
      "Iteration 5000: Cost     0.09   \n",
      "Iteration 6000: Cost     0.09   \n",
      "Iteration 7000: Cost     0.09   \n",
      "Iteration 8000: Cost     0.08   \n",
      "Iteration 9000: Cost     0.08   \n",
      "b,w found by gradient descent: 0.35,[1.29786357 1.22572121 1.18432955] \n",
      "prediction: 16.94, target value: 15.3\n",
      "prediction: 16.83, target value: 17.2\n",
      "prediction: 14.41, target value: 14.3\n",
      "prediction: 16.63, target value: 16.5\n",
      "prediction: 16.87, target value: 16.4\n",
      "prediction: 14.64, target value: 15.7\n",
      "prediction: 19.21, target value: 18.2\n",
      "prediction: 15.64, target value: 15.8\n",
      "prediction: 18.11, target value: 17.4\n",
      "prediction: 17.24, target value: 16.8\n",
      "prediction: 16.47, target value: 16.1\n",
      "prediction: 16.61, target value: 17.0\n",
      "prediction: 17.97, target value: 17.8\n",
      "prediction: 15.99, target value: 16.3\n",
      "prediction: 17.49, target value: 17.6\n",
      "prediction: 18.74, target value: 18.1\n",
      "prediction: 15.24, target value: 15.5\n",
      "prediction: 16.38, target value: 16.7\n",
      "prediction: 16.87, target value: 17.2\n",
      "prediction: 16.25, target value: 16.4\n",
      "prediction: 16.25, target value: 15.9\n",
      "prediction: 16.75, target value: 17.1\n",
      "prediction: 16.61, target value: 16.6\n",
      "prediction: 17.25, target value: 17.9\n",
      "prediction: 17.37, target value: 17.0\n",
      "prediction: 16.00, target value: 16.0\n",
      "prediction: 16.62, target value: 16.8\n",
      "prediction: 15.73, target value: 15.7\n",
      "prediction: 17.63, target value: 17.5\n",
      "prediction: 17.23, target value: 17.3\n",
      "prediction: 15.88, target value: 16.2\n",
      "prediction: 18.48, target value: 18.0\n",
      "prediction: 15.26, target value: 15.4\n",
      "prediction: 17.12, target value: 17.1\n",
      "prediction: 17.25, target value: 17.3\n",
      "prediction: 16.50, target value: 16.5\n",
      "prediction: 17.88, target value: 18.1\n",
      "prediction: 16.13, target value: 16.8\n",
      "prediction: 16.12, target value: 16.0\n",
      "prediction: 17.38, target value: 17.5\n",
      "prediction: 16.24, target value: 16.3\n",
      "prediction: 16.50, target value: 17.0\n",
      "prediction: 17.97, target value: 17.7\n",
      "prediction: 17.99, target value: 18.2\n",
      "prediction: 16.25, target value: 16.1\n",
      "prediction: 17.37, target value: 17.4\n",
      "prediction: 15.75, target value: 15.9\n",
      "prediction: 16.50, target value: 16.9\n",
      "prediction: 18.36, target value: 18.3\n",
      "prediction: 17.12, target value: 17.2\n",
      "prediction: 15.39, target value: 15.8\n",
      "prediction: 17.49, target value: 16.9\n",
      "prediction: 16.12, target value: 16.1\n",
      "prediction: 17.62, target value: 17.6\n",
      "prediction: 17.00, target value: 17.2\n",
      "prediction: 18.48, target value: 18.4\n",
      "prediction: 16.49, target value: 16.4\n",
      "prediction: 17.25, target value: 17.3\n",
      "prediction: 16.00, target value: 16.2\n",
      "prediction: 16.01, target value: 16.7\n",
      "prediction: 18.11, target value: 17.8\n",
      "prediction: 16.87, target value: 17.1\n",
      "prediction: 15.63, target value: 15.6\n",
      "prediction: 16.88, target value: 17.0\n"
     ]
    }
   ],
   "source": [
    "# initialize parameters\n",
    "initial_w = np.zeros_like(w_init)\n",
    "initial_b = 0.\n",
    "# some gradient descent settings\n",
    "iterations = 10000\n",
    "alpha = 0.001\n",
    "# run gradient descent \n",
    "w_final, b_final, J_hist = gradient_descent(x_train, y_train, initial_w, initial_b,\n",
    "                                                    compute_cost, compute_gradient, \n",
    "                                                    alpha, iterations)\n",
    "print(f\"b,w found by gradient descent: {b_final:0.2f},{w_final} \")\n",
    "m,_ = x_train.shape\n",
    "for i in range(m):\n",
    "    print(f\"prediction: {np.dot(x_train[i], w_final) + b_final:0.2f}, target value: {y_train[i]}\")"
   ]
  }
 ],
 "metadata": {
  "kernelspec": {
   "display_name": ".venv",
   "language": "python",
   "name": "python3"
  },
  "language_info": {
   "codemirror_mode": {
    "name": "ipython",
    "version": 3
   },
   "file_extension": ".py",
   "mimetype": "text/x-python",
   "name": "python",
   "nbconvert_exporter": "python",
   "pygments_lexer": "ipython3",
   "version": "3.11.5"
  },
  "orig_nbformat": 4
 },
 "nbformat": 4,
 "nbformat_minor": 2
}
